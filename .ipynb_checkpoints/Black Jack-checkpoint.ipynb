{
 "cells": [
  {
   "cell_type": "markdown",
   "metadata": {},
   "source": [
    "# Black Jack Game"
   ]
  },
  {
   "cell_type": "code",
   "execution_count": 19,
   "metadata": {},
   "outputs": [],
   "source": [
    "import random "
   ]
  },
  {
   "cell_type": "markdown",
   "metadata": {},
   "source": [
    "## Defining Decks with Suits and Ranks"
   ]
  },
  {
   "cell_type": "code",
   "execution_count": 20,
   "metadata": {},
   "outputs": [],
   "source": [
    "suits = ('Hearts', 'Diamonds', 'Spades', 'Clubs')\n",
    "ranks = ('Two', 'Three', 'Four', 'Five', 'Six', 'Seven', 'Eight', 'Nine', 'Ten', 'Jack', 'Queen', 'King', 'Ace')\n",
    "values = {'Two':2, 'Three':3, 'Four':4, 'Five':5, 'Six':6, 'Seven':7, 'Eight':8, 'Nine':9, 'Ten':10, 'Jack':10, 'Queen':10, 'King':10, 'Ace':11}"
   ]
  },
  {
   "cell_type": "code",
   "execution_count": 21,
   "metadata": {},
   "outputs": [],
   "source": [
    "playing = True"
   ]
  },
  {
   "cell_type": "markdown",
   "metadata": {},
   "source": [
    "## Defining all the classess"
   ]
  },
  {
   "cell_type": "markdown",
   "metadata": {},
   "source": [
    "#### Card class"
   ]
  },
  {
   "cell_type": "code",
   "execution_count": 22,
   "metadata": {},
   "outputs": [],
   "source": [
    "class Card():\n",
    "\n",
    "    def __init__(self, suit, rank):\n",
    "\n",
    "        self.suit = suit\n",
    "        self.rank = rank\n",
    "\n",
    "    def __str__(self):\n",
    "\n",
    "        return f'{self.rank} of {self.suit}'"
   ]
  },
  {
   "cell_type": "markdown",
   "metadata": {},
   "source": [
    "#### Deck Class"
   ]
  },
  {
   "cell_type": "code",
   "execution_count": 23,
   "metadata": {},
   "outputs": [],
   "source": [
    "class Deck():\n",
    "\n",
    "    def __init__(self):\n",
    "\n",
    "        self.deck = []\n",
    "        for suit in suits:\n",
    "            for rank in ranks:\n",
    "                self.deck.append(Card(suit, rank))\n",
    "\n",
    "    def __str__(self):\n",
    "        deck_comp = ''\n",
    "        for card in self.deck:\n",
    "            deck_comp += '\\n '+card.__str__()\n",
    "        return 'The deck has:' + deck_comp\n",
    "\n",
    "    def shuffle(self):\n",
    "        random.shuffle(self.deck)\n",
    "\n",
    "    def deal(self):\n",
    "        single_card = self.deck.pop()\n",
    "        return single_card"
   ]
  },
  {
   "cell_type": "markdown",
   "metadata": {},
   "source": [
    "#### Hand Class"
   ]
  },
  {
   "cell_type": "code",
   "execution_count": 24,
   "metadata": {},
   "outputs": [],
   "source": [
    "class Hand():\n",
    "\n",
    "    def __init__(self):\n",
    "\n",
    "        self.cards = []\n",
    "        self.value = 0\n",
    "        self.aces = 0\n",
    "\n",
    "    def add_card(self,card):\n",
    "\n",
    "        self.cards.append(card)\n",
    "        self.value += values[card.rank]\n",
    "\n",
    "    def adjust_for_ace(self):\n",
    "\n",
    "        while self.value > 21 and self.aces:\n",
    "            self.value -= 10\n",
    "            self.aces -= 1"
   ]
  },
  {
   "cell_type": "markdown",
   "metadata": {},
   "source": [
    "#### Chips Class"
   ]
  },
  {
   "cell_type": "code",
   "execution_count": 25,
   "metadata": {},
   "outputs": [],
   "source": [
    "class Chips():\n",
    "\n",
    "    def __init__(self):\n",
    "\n",
    "        self.total = 100\n",
    "        self.bet = 0\n",
    "\n",
    "    def win_bet(self):\n",
    "\n",
    "        self.total += self.bet\n",
    "\n",
    "    def lose_bet(self):\n",
    "\n",
    "        self.total -= self.bet"
   ]
  },
  {
   "cell_type": "markdown",
   "metadata": {},
   "source": [
    "## Defining the functions"
   ]
  },
  {
   "cell_type": "markdown",
   "metadata": {},
   "source": [
    "#### Bet placing function"
   ]
  },
  {
   "cell_type": "code",
   "execution_count": 26,
   "metadata": {},
   "outputs": [],
   "source": [
    "def take_bet(chips):\n",
    "\n",
    "    while True:\n",
    "        try:\n",
    "            chips.bet = int(input(\"How many chips would you like to bet?\"))\n",
    "        except ValueError:\n",
    "            print('You need to give an integer value!')\n",
    "        else:\n",
    "            if chips.bet > chips.total:\n",
    "                print(\"Sorry, your bet can't exceed: \", chips.total)\n",
    "            else:\n",
    "                break"
   ]
  },
  {
   "cell_type": "markdown",
   "metadata": {},
   "source": [
    "#### Hit taking Function"
   ]
  },
  {
   "cell_type": "code",
   "execution_count": 27,
   "metadata": {},
   "outputs": [],
   "source": [
    "def hit(deck, hand):\n",
    "\n",
    "    hand.add_card(deck.deal())\n",
    "    hand.adjust_for_ace()"
   ]
  },
  {
   "cell_type": "markdown",
   "metadata": {},
   "source": [
    "#### User input for Hit or Stand function"
   ]
  },
  {
   "cell_type": "code",
   "execution_count": 28,
   "metadata": {},
   "outputs": [],
   "source": [
    "def hit_or_stand(deck, hand):\n",
    "\n",
    "    global playing\n",
    "\n",
    "    while True:\n",
    "        x = input(\"Would you like to Hit or Stand, Enter 'h' or's': \").lower()\n",
    "\n",
    "        if x[0] == 'h':\n",
    "            hit(deck, hand)\n",
    "        elif x[0] == 's':\n",
    "            print(\"Player Stands, Its dealer's turn\")\n",
    "            playing = False\n",
    "        else:\n",
    "            print('Wrong Input, Please try again!')\n",
    "            continue\n",
    "        break"
   ]
  },
  {
   "cell_type": "markdown",
   "metadata": {},
   "source": [
    "#### Card displaying functions"
   ]
  },
  {
   "cell_type": "code",
   "execution_count": 29,
   "metadata": {},
   "outputs": [],
   "source": [
    "def show_some(player, dealer):\n",
    "    print(\"\\nDealer's Hand: \")\n",
    "    print(\" < HIDDEN CARD >\")\n",
    "    print(\" \", dealer.cards[1])\n",
    "    print(\"\\nPlayer's Hand: \", *player.cards, sep='\\n ')\n",
    "    print(\"\")"
   ]
  },
  {
   "cell_type": "code",
   "execution_count": 30,
   "metadata": {},
   "outputs": [],
   "source": [
    "def show_all(player, dealer):\n",
    "    print(\"Dealer's Hand: \", *dealer.cards, sep='\\n ')\n",
    "    print(\"Dealer's Hand= \", dealer.value)\n",
    "    print(\"\\nPlayer's Hand: \", *player.cards, sep='\\n ')\n",
    "    print(\"Player's Hand= \", player.value)\n",
    "    print(\"\")"
   ]
  },
  {
   "cell_type": "markdown",
   "metadata": {},
   "source": [
    "#### End game scenario functions"
   ]
  },
  {
   "cell_type": "code",
   "execution_count": 31,
   "metadata": {},
   "outputs": [],
   "source": [
    "def player_busts(player,dealer,chips):\n",
    "    print(\"Player Busts!\")\n",
    "    chips.lose_bet()"
   ]
  },
  {
   "cell_type": "code",
   "execution_count": 32,
   "metadata": {},
   "outputs": [],
   "source": [
    "def player_wins(player,dealer,chips):\n",
    "    print(\"Player Wins!\")\n",
    "    chips.win_bet()"
   ]
  },
  {
   "cell_type": "code",
   "execution_count": 33,
   "metadata": {},
   "outputs": [],
   "source": [
    "def dealer_busts(player,dealer,chips):\n",
    "    print(\"Dealer Busts!\")\n",
    "    chips.win_bet()"
   ]
  },
  {
   "cell_type": "code",
   "execution_count": 34,
   "metadata": {},
   "outputs": [],
   "source": [
    "def dealer_wins(player,dealer,chips):\n",
    "    print(\"Dealer Wins!\")\n",
    "    chips.lose_bet()"
   ]
  },
  {
   "cell_type": "code",
   "execution_count": 35,
   "metadata": {},
   "outputs": [],
   "source": [
    "def push(player,dealer):\n",
    "    print(\"Player and Dealer tied, its a push!!!\")"
   ]
  },
  {
   "cell_type": "markdown",
   "metadata": {},
   "source": [
    "## The main Game Block "
   ]
  },
  {
   "cell_type": "code",
   "execution_count": 36,
   "metadata": {},
   "outputs": [
    {
     "name": "stdout",
     "output_type": "stream",
     "text": [
      "<------WELCOME TO BLACKJACK------>\n",
      "\n",
      "Get as close to 21 as you can without going over!\n",
      "Dealer hits until she reaches 17. Aces count as 1 or 11.\n",
      "How many chips would you like to bet?10\n",
      "\n",
      "Dealer's Hand: \n",
      " < HIDDEN CARD >\n",
      "  Six of Spades\n",
      "\n",
      "Player's Hand: \n",
      " Two of Clubs\n",
      " Queen of Spades\n",
      "\n",
      "Would you like to Hit or Stand, Enter 'h' or's': h\n",
      "\n",
      "Dealer's Hand: \n",
      " < HIDDEN CARD >\n",
      "  Six of Spades\n",
      "\n",
      "Player's Hand: \n",
      " Two of Clubs\n",
      " Queen of Spades\n",
      " Four of Hearts\n",
      "\n",
      "Would you like to Hit or Stand, Enter 'h' or's': s\n",
      "Player Stands, Its dealer's turn\n",
      "\n",
      "Dealer's Hand: \n",
      " < HIDDEN CARD >\n",
      "  Six of Spades\n",
      "\n",
      "Player's Hand: \n",
      " Two of Clubs\n",
      " Queen of Spades\n",
      " Four of Hearts\n",
      "\n",
      "Dealer's Hand: \n",
      " Five of Clubs\n",
      " Six of Spades\n",
      " Two of Hearts\n",
      "Dealer's Hand=  13\n",
      "\n",
      "Player's Hand: \n",
      " Two of Clubs\n",
      " Queen of Spades\n",
      " Four of Hearts\n",
      "Player's Hand=  16\n",
      "\n",
      "Player Wins!\n",
      "Dealer's Hand: \n",
      " Five of Clubs\n",
      " Six of Spades\n",
      " Two of Hearts\n",
      " Six of Clubs\n",
      "Dealer's Hand=  19\n",
      "\n",
      "Player's Hand: \n",
      " Two of Clubs\n",
      " Queen of Spades\n",
      " Four of Hearts\n",
      "Player's Hand=  16\n",
      "\n",
      "Dealer Wins!\n",
      "\n",
      "Player's winnings stant at:  100\n",
      "Would you like to keep playing (reply with y to play): y\n",
      "<------WELCOME TO BLACKJACK------>\n",
      "\n",
      "Get as close to 21 as you can without going over!\n",
      "Dealer hits until she reaches 17. Aces count as 1 or 11.\n",
      "How many chips would you like to bet?20\n",
      "\n",
      "Dealer's Hand: \n",
      " < HIDDEN CARD >\n",
      "  Two of Spades\n",
      "\n",
      "Player's Hand: \n",
      " Ten of Spades\n",
      " Ten of Clubs\n",
      "\n",
      "Would you like to Hit or Stand, Enter 'h' or's': s\n",
      "Player Stands, Its dealer's turn\n",
      "\n",
      "Dealer's Hand: \n",
      " < HIDDEN CARD >\n",
      "  Two of Spades\n",
      "\n",
      "Player's Hand: \n",
      " Ten of Spades\n",
      " Ten of Clubs\n",
      "\n",
      "Dealer's Hand: \n",
      " Jack of Spades\n",
      " Two of Spades\n",
      " Seven of Hearts\n",
      "Dealer's Hand=  19\n",
      "\n",
      "Player's Hand: \n",
      " Ten of Spades\n",
      " Ten of Clubs\n",
      "Player's Hand=  20\n",
      "\n",
      "Player Wins!\n",
      "\n",
      "Player's winnings stant at:  120\n",
      "Would you like to keep playing (reply with y to play): n\n",
      "Thanks for playing\n"
     ]
    }
   ],
   "source": [
    "while True:\n",
    "\n",
    "    print(\"<------WELCOME TO BLACKJACK------>\\n\\nGet as close to 21 as you can without going over!\")\n",
    "    print(\"Dealer hits until she reaches 17. Aces count as 1 or 11.\")\n",
    "\n",
    "    deck = Deck()\n",
    "    deck.shuffle() #Creating and shuffling the deck\n",
    "\n",
    "    player_hand = Hand() #Creating Player's Hand\n",
    "    player_hand.add_card(deck.deal())\n",
    "    player_hand.add_card(deck.deal()) #Dealing two cards to player\n",
    "\n",
    "    dealer_hand = Hand() #Creating Dealers's Hand\n",
    "    dealer_hand.add_card(deck.deal())\n",
    "    dealer_hand.add_card(deck.deal()) #Dealing two cards to dealer\n",
    "\n",
    "    player_chip = Chips() #Setting up player's chips\n",
    "\n",
    "    take_bet(player_chip) #Prompting user for placing bet\n",
    "\n",
    "    show_some(player_hand,dealer_hand) #Displaying cards while keeping one of thr dealer's card hidden\n",
    "\n",
    "    while playing:\n",
    "        hit_or_stand(deck,player_hand) #Prompting user to hit or stand\n",
    "        show_some(player_hand,dealer_hand)\n",
    "        if player_hand.value > 21:\n",
    "            player_busts(player_hand,dealer_hand,player_chip) #stoping the loop when player busts\n",
    "            break\n",
    "\n",
    "    if player_hand.value <= 21: #checking if player did not bust\n",
    "        while dealer_hand.value < 17:\n",
    "            hit(deck,dealer_hand) #Dealing cards to dealer\n",
    "            show_all(player_hand,dealer_hand) #Show all cards\n",
    "            if dealer_hand.value > 21:\n",
    "                dealer_busts(player_hand,dealer_hand,player_chip)\n",
    "            elif dealer_hand.value > player_hand.value:\n",
    "                dealer_wins(player_hand,dealer_hand,player_chip)   #Running different game-end scenarios\n",
    "            elif dealer_hand.value < player_hand.value:\n",
    "                player_wins(player_hand,dealer_hand,player_chip)\n",
    "            else:\n",
    "                push(player_hand,dealer_hand)\n",
    "\n",
    "    print(\"\\nPlayer's winnings stant at: \", player_chip.total) #Informing about current chip count\n",
    "\n",
    "    game_on = input(\"Would you like to keep playing (reply with y to play): \").lower()\n",
    "\n",
    "    if game_on == 'y':\n",
    "        playing = True\n",
    "        continue\n",
    "    else:\n",
    "        print(\"Thanks for playing\")\n",
    "        break"
   ]
  }
 ],
 "metadata": {
  "kernelspec": {
   "display_name": "Python 3",
   "language": "python",
   "name": "python3"
  },
  "language_info": {
   "codemirror_mode": {
    "name": "ipython",
    "version": 3
   },
   "file_extension": ".py",
   "mimetype": "text/x-python",
   "name": "python",
   "nbconvert_exporter": "python",
   "pygments_lexer": "ipython3",
   "version": "3.7.6"
  }
 },
 "nbformat": 4,
 "nbformat_minor": 4
}
